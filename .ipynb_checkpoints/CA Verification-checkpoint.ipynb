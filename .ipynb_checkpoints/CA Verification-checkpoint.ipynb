{
 "cells": [
  {
   "cell_type": "code",
   "execution_count": 1,
   "id": "d21f8404-39d4-4ffa-84d4-7529a86f096c",
   "metadata": {},
   "outputs": [],
   "source": [
    "import matplotlib.pyplot as plt\n",
    "import networkx as nx\n"
   ]
  },
  {
   "cell_type": "code",
   "execution_count": 69,
   "id": "b0d5768f-15f2-4909-bc34-93a9c52ffbb2",
   "metadata": {},
   "outputs": [],
   "source": [
    "class Cell:\n",
    "    def __init__(self, value:str =None):\n",
    "        self.value = value\n",
    "        self.x = None\n",
    "        self.y = None\n",
    "\n",
    "    def set_pointers(self, cell1, cell2):\n",
    "        self.x = cell1\n",
    "        self.y = cell2\n",
    "\n",
    "    def set_x(self, cell1):\n",
    "        self.x = cell1\n",
    "\n",
    "    def set_y(self, cell2):\n",
    "        self.y = cell2\n",
    "    \n",
    "    def __repr__(self):\n",
    "        pointer1_value = self.x.value if self.x else None\n",
    "        pointer2_value = self.y.value if self.y else None\n",
    "        return f\"Cell(value={self.value}, x={pointer1_value}, y={pointer2_value})\""
   ]
  },
  {
   "cell_type": "code",
   "execution_count": 45,
   "id": "002674ed-df80-427e-a91b-57a82c00a18f",
   "metadata": {},
   "outputs": [],
   "source": [
    "def get_pos(x, y, size):\n",
    "    return x+y*size"
   ]
  },
  {
   "cell_type": "code",
   "execution_count": 49,
   "id": "ff29917d-095b-4de0-8e24-ea4cd846c1d5",
   "metadata": {},
   "outputs": [],
   "source": [
    "def check_in_bounds(i, j, x, y):\n",
    "    return i >= 0 and i < x and j >= 0 and j < y"
   ]
  },
  {
   "cell_type": "code",
   "execution_count": 146,
   "id": "cf7ded5e-f2d7-424c-98fc-f4e615a7f44a",
   "metadata": {},
   "outputs": [
    {
     "name": "stdout",
     "output_type": "stream",
     "text": [
      "Cell(value=B11, x=None, y=None) Cell(value=B12, x=None, y=None) Cell(value=B13, x=None, y=None) Cell(value=B14, x=None, y=None) Cell(value=B15, x=None, y=None) Cell(value=B21, x=None, y=None) Cell(value=B22, x=None, y=None) Cell(value=B23, x=None, y=None) Cell(value=B24, x=None, y=None) Cell(value=B25, x=None, y=None) Cell(value=B31, x=None, y=None) Cell(value=B32, x=None, y=None) Cell(value=B33, x=None, y=None) Cell(value=B34, x=None, y=None) Cell(value=B35, x=None, y=None) Cell(value=B41, x=None, y=None) Cell(value=B42, x=None, y=None) Cell(value=B43, x=None, y=None) Cell(value=B44, x=None, y=None) Cell(value=B45, x=None, y=None)\n"
     ]
    }
   ],
   "source": [
    "x = 4\n",
    "y = 5\n",
    "\n",
    "image = [Cell(\"B\"+str(j)+str(i)) for j in range(1,x+1) for i in range(1,y+1)]\n",
    "print(*image)"
   ]
  },
  {
   "cell_type": "code",
   "execution_count": 148,
   "id": "c76ffb40-70f9-4891-bbbe-a3460b93cb5f",
   "metadata": {},
   "outputs": [],
   "source": [
    "def set_neighbourhood(rule_l):\n",
    "    neighbours = [0]*9\n",
    "    neighbours[0] = rule_l[6]\n",
    "    neighbours[1] = rule_l[7]\n",
    "    neighbours[2] = rule_l[8]\n",
    "    neighbours[3] = rule_l[5]\n",
    "    neighbours[4] = rule_l[0]\n",
    "    neighbours[5] = rule_l[1]\n",
    "    neighbours[6] = rule_l[4]\n",
    "    neighbours[7] = rule_l[3]\n",
    "    neighbours[8] = rule_l[2]\n",
    "    return neighbours"
   ]
  },
  {
   "cell_type": "code",
   "execution_count": 188,
   "id": "9312e466-850e-4be5-ae09-ee09cecf727e",
   "metadata": {},
   "outputs": [],
   "source": [
    "def apply_rule(rule:int):\n",
    "    rule_l = list(map(lambda x: int(x), list(format(rule, '08b'))))\n",
    "    rule_l.reverse()\n",
    "    neighbours = set_neighbourhood(rule_l)\n",
    "    for i in range(y):\n",
    "        for j in range(x):\n",
    "            # print(image[get_pos(j, i, x)])\n",
    "            cell = image[get_pos(j, i, x)]\n",
    "            ct = 0\n",
    "            for y_ in range(-1,2):\n",
    "                for x_ in range(-1, 2):\n",
    "                    if check_in_bounds(j+x_, i+y_, x, y) and neighbours[ct] == 1:\n",
    "                        print(ct, x_, y_)\n",
    "                        neighbour = image[get_pos(j+x_, i+y_, x)]\n",
    "                        if cell.x is None:\n",
    "                            cell.set_x(neighbour)\n",
    "                        elif cell.y is None:\n",
    "                            cell.set_y(neighbour)\n",
    "                    ct+=1            \n"
   ]
  },
  {
   "cell_type": "code",
   "execution_count": 190,
   "id": "77d10f4b-9f66-4b4b-9d73-e55784c06648",
   "metadata": {},
   "outputs": [
    {
     "name": "stdout",
     "output_type": "stream",
     "text": [
      "2 1 0\n",
      "0 0 0\n",
      "2 2 0\n",
      "0 1 0\n",
      "2 3 0\n",
      "0 2 0\n",
      "2 1 1\n",
      "0 0 1\n",
      "2 2 1\n",
      "0 1 1\n",
      "2 3 1\n",
      "0 2 1\n",
      "2 1 2\n",
      "0 0 2\n",
      "2 2 2\n",
      "0 1 2\n",
      "2 3 2\n",
      "0 2 2\n",
      "2 1 3\n",
      "0 0 3\n",
      "2 2 3\n",
      "0 1 3\n",
      "2 3 3\n",
      "0 2 3\n"
     ]
    }
   ],
   "source": [
    "apply_rule(320)"
   ]
  },
  {
   "cell_type": "code",
   "execution_count": 182,
   "id": "3fc9ffe8-986d-42f2-9842-ac84731f861f",
   "metadata": {},
   "outputs": [
    {
     "name": "stdout",
     "output_type": "stream",
     "text": [
      "Cell(value=B11, x=B11, y=B21)\n",
      "Cell(value=B12, x=B12, y=B22)\n",
      "Cell(value=B13, x=B13, y=B23)\n",
      "Cell(value=B14, x=B14, y=B14)\n",
      "Cell(value=B15, x=B15, y=B25)\n",
      "Cell(value=B21, x=B21, y=B31)\n",
      "Cell(value=B22, x=B22, y=B32)\n",
      "Cell(value=B23, x=B23, y=B23)\n",
      "Cell(value=B24, x=B24, y=B34)\n",
      "Cell(value=B25, x=B25, y=B35)\n",
      "Cell(value=B31, x=B31, y=B41)\n",
      "Cell(value=B32, x=B32, y=B32)\n",
      "Cell(value=B33, x=B33, y=B43)\n",
      "Cell(value=B34, x=B34, y=B44)\n",
      "Cell(value=B35, x=B35, y=B45)\n",
      "Cell(value=B41, x=B41, y=B41)\n",
      "Cell(value=B42, x=B42, y=B42)\n",
      "Cell(value=B43, x=B43, y=B43)\n",
      "Cell(value=B44, x=B44, y=B44)\n",
      "Cell(value=B45, x=B45, y=B45)\n"
     ]
    }
   ],
   "source": [
    "print(*image, sep=\"\\n\")"
   ]
  },
  {
   "cell_type": "markdown",
   "id": "25b470b3-ef7d-4c12-8f87-c017ebe04d22",
   "metadata": {},
   "source": []
  }
 ],
 "metadata": {
  "kernelspec": {
   "display_name": "Python 3 (ipykernel)",
   "language": "python",
   "name": "python3"
  },
  "language_info": {
   "codemirror_mode": {
    "name": "ipython",
    "version": 3
   },
   "file_extension": ".py",
   "mimetype": "text/x-python",
   "name": "python",
   "nbconvert_exporter": "python",
   "pygments_lexer": "ipython3",
   "version": "3.12.4"
  }
 },
 "nbformat": 4,
 "nbformat_minor": 5
}
