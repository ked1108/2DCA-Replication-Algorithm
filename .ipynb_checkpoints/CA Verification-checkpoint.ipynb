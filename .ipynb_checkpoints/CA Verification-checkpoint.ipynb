{
 "cells": [
  {
   "cell_type": "code",
   "execution_count": 1,
   "id": "d21f8404-39d4-4ffa-84d4-7529a86f096c",
   "metadata": {},
   "outputs": [],
   "source": [
    "import matplotlib.pyplot as plt\n",
    "import networkx as nx\n",
    "import itertools"
   ]
  },
  {
   "cell_type": "markdown",
   "id": "35a8dd23",
   "metadata": {},
   "source": [
    "# Custom Class Cell which acts as the vertex of our graph"
   ]
  },
  {
   "cell_type": "code",
   "execution_count": 3,
   "id": "b0d5768f-15f2-4909-bc34-93a9c52ffbb2",
   "metadata": {},
   "outputs": [],
   "source": [
    "class Cell:\n",
    "    def __init__(self, value:str =None, i:int=None, j:int=None):\n",
    "        self.value = value\n",
    "        self.i = i\n",
    "        self.j = j\n",
    "        self.x = None\n",
    "        self.y = None\n",
    "\n",
    "    def set_pointers(self, cell1, cell2):\n",
    "        self.x = cell1\n",
    "        self.y = cell2\n",
    "\n",
    "    def set_x(self, cell1):\n",
    "        self.x = cell1\n",
    "\n",
    "    def set_y(self, cell2):\n",
    "        self.y = cell2\n",
    "    \n",
    "    def __repr__(self):\n",
    "        pointer1_value = self.x.value if self.x else None\n",
    "        pointer2_value = self.y.value if self.y else None\n",
    "        return f\"Cell {self.value}\""
   ]
  },
  {
   "cell_type": "markdown",
   "id": "3b119025",
   "metadata": {},
   "source": [
    "# Auxilary Helper functions"
   ]
  },
  {
   "cell_type": "code",
   "execution_count": 5,
   "id": "002674ed-df80-427e-a91b-57a82c00a18f",
   "metadata": {},
   "outputs": [],
   "source": [
    "def get_pos(x, y, size):\n",
    "    return x+y*size"
   ]
  },
  {
   "cell_type": "code",
   "execution_count": 6,
   "id": "ff29917d-095b-4de0-8e24-ea4cd846c1d5",
   "metadata": {},
   "outputs": [],
   "source": [
    "def check_in_bounds(i, j, x, y):\n",
    "    return i >= 0 and i < x and j >= 0 and j < y"
   ]
  },
  {
   "cell_type": "code",
   "execution_count": 7,
   "id": "c76ffb40-70f9-4891-bbbe-a3460b93cb5f",
   "metadata": {},
   "outputs": [],
   "source": [
    "def set_neighbourhood(rule_l):\n",
    "    neighbours = [0]*9\n",
    "    neighbours[0] = rule_l[6]\n",
    "    neighbours[1] = rule_l[7]\n",
    "    neighbours[2] = rule_l[8]\n",
    "    neighbours[3] = rule_l[5]\n",
    "    neighbours[4] = rule_l[0]\n",
    "    neighbours[5] = rule_l[1]\n",
    "    neighbours[6] = rule_l[4]\n",
    "    neighbours[7] = rule_l[3]\n",
    "    neighbours[8] = rule_l[2]\n",
    "    return neighbours"
   ]
  },
  {
   "cell_type": "markdown",
   "id": "5d8e8fbb",
   "metadata": {},
   "source": [
    "# The function is used to apply the rule over the image"
   ]
  },
  {
   "cell_type": "code",
   "execution_count": 9,
   "id": "9312e466-850e-4be5-ae09-ee09cecf727e",
   "metadata": {},
   "outputs": [],
   "source": [
    "def apply_rule(rule:int, x:int, y:int, image):\n",
    "    rule_l = list(map(lambda x: int(x), list(format(rule, '09b'))))\n",
    "    rule_l.reverse()\n",
    "    neighbours = set_neighbourhood(rule_l)\n",
    "    for i in range(y):\n",
    "        for j in range(x):\n",
    "            # print(image[get_pos(j, i, x)])\n",
    "            cell = image[get_pos(j, i, x)]\n",
    "            ct = 0\n",
    "            for y_ in range(-1,2):\n",
    "                for x_ in range(-1, 2):\n",
    "                    if check_in_bounds(j+x_, i+y_, x, y) and neighbours[ct] == 1:\n",
    "                        neighbour = image[get_pos(j+x_, i+y_, x)]\n",
    "                        if cell.x is None:\n",
    "                            cell.set_x(neighbour)\n",
    "                        elif cell.y is None:\n",
    "                            cell.set_y(neighbour)\n",
    "                    ct+=1            \n"
   ]
  },
  {
   "cell_type": "markdown",
   "id": "7c395c08",
   "metadata": {},
   "source": [
    "# Here we create the Adjacency Matrix for our directional graph"
   ]
  },
  {
   "cell_type": "code",
   "execution_count": 11,
   "id": "33d0bc58-2555-42e8-b71d-ba433fc78b97",
   "metadata": {},
   "outputs": [],
   "source": [
    "def create_adj_matrix(x:int, y:int, image):\n",
    "    adj_matrix = [[0 for j in range(len(image))] for i in range(len(image))]\n",
    "    for i, cell in enumerate(image):\n",
    "        if cell.x is not None:\n",
    "            adj_matrix[i][get_pos(cell.x.j-1, cell.x.i-1, x)] = 1\n",
    "        if cell.y is not None:\n",
    "            adj_matrix[i][get_pos(cell.y.j-1, cell.y.i-1, x)] = 1\n",
    "    \n",
    "    return adj_matrix"
   ]
  },
  {
   "cell_type": "markdown",
   "id": "3eea0804",
   "metadata": {},
   "source": [
    "# These functions are used to find all the incoming and outgoing nodes at a particular vertex in our image graph"
   ]
  },
  {
   "cell_type": "code",
   "execution_count": 13,
   "id": "6fe13562",
   "metadata": {},
   "outputs": [],
   "source": [
    "def find_incoming_nodes(pos:int, image, adj_matrix):\n",
    "    nodes = []\n",
    "    for i in range(len(image)):\n",
    "        if adj_matrix[i][pos] == 1:\n",
    "            nodes.append(image[i])\n",
    "    \n",
    "    return nodes"
   ]
  },
  {
   "cell_type": "code",
   "execution_count": 14,
   "id": "1f9ba874",
   "metadata": {},
   "outputs": [],
   "source": [
    "def find_outgoing_nodes(pos:int, image, adj_matrix):\n",
    "    return [image[i] for i in range(len(image)) if adj_matrix[pos][i] == 1]\n"
   ]
  },
  {
   "cell_type": "markdown",
   "id": "5dbc702e",
   "metadata": {},
   "source": [
    "# This is the function which recursively finds the chain starting from a particular vertex of our graph"
   ]
  },
  {
   "cell_type": "code",
   "execution_count": 16,
   "id": "f53cd725",
   "metadata": {},
   "outputs": [],
   "source": [
    "def find_chain(pos:int, x, y, chain:set, frm:Cell, image, adj_matrix):\n",
    "    chain.add(image[pos])\n",
    "    \n",
    "    incoming = find_incoming_nodes(pos, image, adj_matrix)\n",
    "    incoming = [node for node in incoming if node is not frm]\n",
    "    for node in incoming:\n",
    "        outgoing = find_outgoing_nodes(get_pos(node.j-1, node.i-1, x), image, adj_matrix)\n",
    "        for n in outgoing:\n",
    "            if n is not image[pos]:\n",
    "                find_chain(get_pos(n.j-1, n.i-1, x), x, y, chain, node, image, adj_matrix)\n"
   ]
  },
  {
   "cell_type": "markdown",
   "id": "3d5ced96",
   "metadata": {},
   "source": [
    "# This is the driver function which has support for memoization using which we retrieve the longest chain in the graph for a given rule"
   ]
  },
  {
   "cell_type": "code",
   "execution_count": 18,
   "id": "9b51bde5",
   "metadata": {},
   "outputs": [],
   "source": [
    "def find_max(rule: int, x, y, image, adj_matrix, memory:dict):\n",
    "    if(rule in memory.keys()):\n",
    "        return memory[rule]\n",
    "    \n",
    "    maxx = 0\n",
    "    longest_chain = set()\n",
    "    for i in range(y):\n",
    "        for j in range(x):\n",
    "            chain = set()\n",
    "            find_chain(get_pos(j, i, x), x, y, chain, None, image, adj_matrix)\n",
    "            if len(chain) > maxx:\n",
    "                longest_chain = chain\n",
    "                maxx = len(chain)\n",
    "    \n",
    "    # print(longest_chain)\n",
    "    memory[rule] = (maxx, longest_chain)\n",
    "    return (maxx, longest_chain)"
   ]
  },
  {
   "cell_type": "markdown",
   "id": "17a00d23",
   "metadata": {},
   "source": [
    "# This Function finds out all the different possible NC2 combinations for any given rule of type 9CN"
   ]
  },
  {
   "cell_type": "code",
   "execution_count": 20,
   "id": "d28b8bca",
   "metadata": {},
   "outputs": [],
   "source": [
    "def conv_to_c2(rule: int):\n",
    "    l = list(map(int, reversed(list(format(rule, '09b')))))\n",
    "    l = [i for i,j in enumerate(l) if j != 0]\n",
    "    comps = list(map(lambda x:2**x[0]+2**x[1], itertools.combinations(l, 2)))\n",
    "    \n",
    "    return comps\n",
    "    "
   ]
  },
  {
   "cell_type": "markdown",
   "id": "245d7575",
   "metadata": {},
   "source": [
    "# Here we calculate the longest chain possible for a rule of type 9CN for N >= 2"
   ]
  },
  {
   "cell_type": "code",
   "execution_count": 22,
   "id": "999a5f23",
   "metadata": {},
   "outputs": [],
   "source": [
    "def find_k(rule: int, x:int, y:int, memory:dict):\n",
    "    comps = conv_to_c2(rule)\n",
    "    m = 0\n",
    "    longest_chain = set()\n",
    "    for r in comps:\n",
    "        # print(f\"########## RULE {r} ##########\")\n",
    "        image = [Cell(\"B\"+str(i)+str(j), i, j) for i in range(1,y+1) for j in range(1,x+1)]\n",
    "        apply_rule(r, x, y, image)\n",
    "        adj_matrix = create_adj_matrix(x, y, image)\n",
    "        res = find_max(r, x, y, image, adj_matrix, memory)\n",
    "        if res[0] > m:\n",
    "            m = res[0]\n",
    "            longest_chain = res[1]\n",
    "    return (m, longest_chain)"
   ]
  },
  {
   "cell_type": "code",
   "execution_count": 23,
   "id": "b587ee13",
   "metadata": {},
   "outputs": [],
   "source": [
    "def calculate(r):\n",
    "    c = dict()\n",
    "    rules = sorted(list(map(lambda x: sum(map(lambda y: 2**y, x)), itertools.combinations(range(0,9), r))))\n",
    "    memory = dict()\n",
    "    for rule in rules:\n",
    "        c[rule] = find_k(rule, 3, 7,memory)\n",
    "    \n",
    "    return c\n",
    "\n"
   ]
  },
  {
   "cell_type": "code",
   "execution_count": 24,
   "id": "34fa6fe9",
   "metadata": {},
   "outputs": [
    {
     "ename": "TypeError",
     "evalue": "find_k() missing 3 required positional arguments: 'x', 'y', and 'memory'",
     "output_type": "error",
     "traceback": [
      "\u001b[1;31m---------------------------------------------------------------------------\u001b[0m",
      "\u001b[1;31mTypeError\u001b[0m                                 Traceback (most recent call last)",
      "Cell \u001b[1;32mIn[24], line 1\u001b[0m\n\u001b[1;32m----> 1\u001b[0m find_k(\u001b[38;5;241m148\u001b[39m)\n",
      "\u001b[1;31mTypeError\u001b[0m: find_k() missing 3 required positional arguments: 'x', 'y', and 'memory'"
     ]
    }
   ],
   "source": [
    "find_k(148)"
   ]
  },
  {
   "cell_type": "code",
   "execution_count": null,
   "id": "180f658c-350b-4ae5-b3bd-556c563d0841",
   "metadata": {},
   "outputs": [],
   "source": []
  }
 ],
 "metadata": {
  "kernelspec": {
   "display_name": "Python 3 (ipykernel)",
   "language": "python",
   "name": "python3"
  },
  "language_info": {
   "codemirror_mode": {
    "name": "ipython",
    "version": 3
   },
   "file_extension": ".py",
   "mimetype": "text/x-python",
   "name": "python",
   "nbconvert_exporter": "python",
   "pygments_lexer": "ipython3",
   "version": "3.12.4"
  }
 },
 "nbformat": 4,
 "nbformat_minor": 5
}
